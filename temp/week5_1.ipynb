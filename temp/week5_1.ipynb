{
 "cells": [
  {
   "cell_type": "code",
   "execution_count": 1,
   "metadata": {},
   "outputs": [],
   "source": [
    "from typing import Tuple, Callable\n",
    "\n",
    "import numpy as np"
   ]
  },
  {
   "attachments": {},
   "cell_type": "markdown",
   "metadata": {},
   "source": [
    "### 1. 활성 함수(activation function)\n",
    "$$sigmoid(\\boldsymbol{x}) = \\frac {1} {1 + e^{-\\boldsymbol{x}}}$$\n",
    "$$\\sigma(\\boldsymbol{z})_{i} = \\frac {e^{z_{i}}} {\\sum_{i=1} ^K e_{z_{i}}}$$"
   ]
  },
  {
   "cell_type": "code",
   "execution_count": 6,
   "metadata": {},
   "outputs": [],
   "source": [
    "def sigmoid(x: np.ndarray) -> np.ndarray:\n",
    "    return 1 / (1 + np.exp(-x))\n",
    "\n",
    "def softmax(z: np.ndarray) -> np.ndarray:\n",
    "    return np.exp(z) / np.sum(np.exp(z))"
   ]
  },
  {
   "attachments": {},
   "cell_type": "markdown",
   "metadata": {},
   "source": [
    "### 2. 신경망(neural network) 모델"
   ]
  },
  {
   "cell_type": "code",
   "execution_count": 19,
   "metadata": {},
   "outputs": [],
   "source": [
    "class NeuralNetwork:\n",
    "    def __init__(self, n_input: int, n_output: int, n_hidden: int) -> None:\n",
    "        self.W2 = np.random.randn(n_input, n_hidden)  # he initialization\n",
    "        self.b2 = np.random.randn(n_hidden)\n",
    "        self.W3 = np.random.randn(n_hidden, n_output)\n",
    "        self.b3 = np.random.randn(n_output)\n",
    "        \n",
    "    def forward(self, x: np.ndarray) -> np.ndarray:\n",
    "        a1 = x\n",
    "        z2 = a1 @ self.W2 + self.b2\n",
    "        a2 = sigmoid(z2)\n",
    "        z3 = a2 @ self.W3 + self.b3\n",
    "        y = a3 = softmax(z3)\n",
    "        return y\n",
    "\n",
    "    def __call__(self, x: np.ndarray) -> np.ndarray:\n",
    "        return self.forward(x)\n",
    "    \n",
    "    \n",
    "model = NeuralNetwork(n_input=2, n_output=2, n_hidden=2)"
   ]
  },
  {
   "attachments": {},
   "cell_type": "markdown",
   "metadata": {},
   "source": [
    "### 3. 오차 함수 (error function, loss function)\n",
    "\n",
    "주어진 수식만을 이용하여 CE(cross entropy) 오차 함수를 구현하시오. (구글링, 메인 교재 참고, 서브 강의 참고 금지)\n",
    "- delta는 log의 진수 조건을 만족하기 위해 필요하므로 반드시 사용\n",
    "- N은 데이터 개수 (행 개수)\n",
    "- $y$는 정답(label) $\\hat{y}$은 예측값(prediction)\n",
    "\n",
    "$$CE = -\\sum_{i=1} ^N (\\boldsymbol{y_{i}} \\cdot \\log \\boldsymbol{\\hat{y_{i}}} + (1 - \\boldsymbol{y_{i}}) \\cdot \\log (1 - \\boldsymbol{\\hat{y_{i}}}))$$"
   ]
  },
  {
   "cell_type": "code",
   "execution_count": 8,
   "metadata": {},
   "outputs": [],
   "source": [
    "def cross_entropy_loss(y_data: np.ndarray, t_data: np.ndarray) -> np.ndarray:\n",
    "    delta = 1e-4\n",
    "    return -np.sum(t_data * np.log(y_data + delta) + (1 - t_data) * np.log((1 - y_data) + delta))"
   ]
  },
  {
   "attachments": {},
   "cell_type": "markdown",
   "metadata": {},
   "source": [
    "### 4. 활성함수 미분\n",
    "\n",
    "메인 교재와 서브 강의를 이용하여 시그모이드(sigmoid) 함수를 미분하시오. (구글링 금지)"
   ]
  },
  {
   "attachments": {},
   "cell_type": "markdown",
   "metadata": {},
   "source": [
    "### 5. 오차역전파 (backpropagation)\n",
    "\n",
    "메인 교재와 서브 강의 및 다음 수식을 참고하여 2번과 3번에 대한 오차역전파(backpropagation) 공식을 구하시오. (구글링 금지)\n",
    "\n",
    "$$\\frac {\\partial sigmoid} {\\partial \\boldsymbol{z}} = sigmoid(\\boldsymbol{z}) \\cdot (1 - sigmoid(\\boldsymbol{z}))$$\n",
    "\n",
    "$$\\frac {\\partial \\sigma} {\\partial \\boldsymbol{z}} = \\sigma(\\boldsymbol{z}) \\cdot (1 - \\sigma(\\boldsymbol{z}))$$\n",
    "\n",
    "a. $J(W^{(2)}) = \\frac{dE} {dW^{(2)}} = \\begin{pmatrix} \n",
    "\\frac{\\partial E} {\\partial W^{(2)}_{11}} & \\frac {\\partial E} {\\partial W^{(2)}_{21}} \\\\\n",
    "\\frac {\\partial E} {\\partial W^{(2)}_{12}} & \\frac {\\partial E} {\\partial W^{(2)}_{22}} \\end{pmatrix}$\n",
    "\n",
    "b. $J(W^{(3)}) = \\frac{dE} {dW^{(3)}} = \\begin{pmatrix} \n",
    "\\frac{\\partial E} {\\partial W^{(3)}_{11}} & \\cdots & \\frac {\\partial E} {\\partial W^{(3)}_{o1}} \\\\\n",
    "\\vdots & \\ddots & \\vdots \\\\ \n",
    "\\frac {\\partial E} {\\partial W^{(3)}_{1m}} & \\cdots & \\frac {\\partial E} {\\partial W^{(3)}_{om}} \\end{pmatrix}$\n",
    "\n",
    "c. $J(\\boldsymbol{b^{(2)}}) = \\frac{dE} {d\\boldsymbol{b^{(2)}}} = \\begin{pmatrix} \\frac{\\partial E} {\\partial b^{(2)}_{1}} \\frac{\\partial E} {\\partial b^{(2)}_{2}} \\end{pmatrix}$\n",
    "\n",
    "d. $J(\\boldsymbol{b^{(3)}}) = \\frac{dE} {d\\boldsymbol{b^{(3)}}} = \\begin{pmatrix} \\frac{\\partial E} {\\partial b^{(3)}_{1}} \\frac{\\partial E} {\\partial b^{(3)}_{2}} \\end{pmatrix}$"
   ]
  },
  {
   "cell_type": "code",
   "execution_count": null,
   "metadata": {},
   "outputs": [],
   "source": []
  }
 ],
 "metadata": {
  "kernelspec": {
   "display_name": "week3",
   "language": "python",
   "name": "python3"
  },
  "language_info": {
   "codemirror_mode": {
    "name": "ipython",
    "version": 3
   },
   "file_extension": ".py",
   "mimetype": "text/x-python",
   "name": "python",
   "nbconvert_exporter": "python",
   "pygments_lexer": "ipython3",
   "version": "3.8.15"
  },
  "orig_nbformat": 4,
  "vscode": {
   "interpreter": {
    "hash": "2185028b62590b62afdaea33c23835374a0efabc80ef4ce750ba82ee2e8657e1"
   }
  }
 },
 "nbformat": 4,
 "nbformat_minor": 2
}
